{
 "cells": [
  {
   "cell_type": "code",
   "execution_count": 1,
   "id": "30245fb7",
   "metadata": {},
   "outputs": [
    {
     "name": "stdout",
     "output_type": "stream",
     "text": [
      "Collecting pyDesNote: you may need to restart the kernel to use updated packages.\n",
      "  Downloading pyDes-2.0.1.tar.gz (9.9 kB)\n",
      "Building wheels for collected packages: pyDes\n",
      "  Building wheel for pyDes (setup.py): started\n",
      "  Building wheel for pyDes (setup.py): finished with status 'done'\n",
      "  Created wheel for pyDes: filename=pyDes-2.0.1-py2.py3-none-any.whl size=9566 sha256=b9cae6cbeb8fa03e94926e77c53c3e6b2def429b4594207c36fe4e83a62f7fc6\n",
      "  Stored in directory: c:\\users\\neha_marne\\appdata\\local\\pip\\cache\\wheels\\4c\\c5\\bd\\8d4edfadd711fd4d398bea1b822ed912fdb700b830cd2b1a60\n",
      "Successfully built pyDes\n",
      "Installing collected packages: pyDes\n",
      "Successfully installed pyDes-2.0.1\n",
      "\n"
     ]
    }
   ],
   "source": [
    "pip install pyDes\n"
   ]
  },
  {
   "cell_type": "markdown",
   "id": "570af563",
   "metadata": {},
   "source": [
    "Ass 5 -des"
   ]
  },
  {
   "cell_type": "code",
   "execution_count": 6,
   "id": "b26e9b16",
   "metadata": {},
   "outputs": [
    {
     "name": "stdout",
     "output_type": "stream",
     "text": [
      "enter plain text for encryptionhowareyouiampune\n",
      "enter 16/24 byte string for key generationhowareyouiamfine\n",
      "cipher text:b'*\\x13W(\\xe2\\x83i!\\x8f\\n\\xddA\\x9d\\xb0U\\x15\\xecVi \\x9f\\xa8\\x1aa'\n",
      "plain textb'howareyouiampune'\n"
     ]
    }
   ],
   "source": [
    "import pyDes\n",
    "data=input(\"enter plain text for encryption\")\n",
    "key=input(\"enter 16/24 byte string for key generation\")\n",
    "k=pyDes.triple_des(key,padmode=pyDes.PAD_PKCS5)\n",
    "e=k.encrypt(data)\n",
    "print(\"cipher text:%r\"%e)\n",
    "print(\"plain text:%r\"%k.decrypt(e))"
   ]
  },
  {
   "cell_type": "code",
   "execution_count": 8,
   "id": "ffb8d2af",
   "metadata": {},
   "outputs": [
    {
     "name": "stdout",
     "output_type": "stream",
     "text": [
      "Collecting pycryptodomeNote: you may need to restart the kernel to use updated packages.\n",
      "  Downloading pycryptodome-3.14.1-cp35-abi3-win_amd64.whl (1.8 MB)\n",
      "Installing collected packages: pycryptodome\n",
      "Successfully installed pycryptodome-3.14.1\n",
      "\n"
     ]
    }
   ],
   "source": [
    "pip install pycryptodome\n"
   ]
  },
  {
   "cell_type": "code",
   "execution_count": 9,
   "id": "05bb8659",
   "metadata": {},
   "outputs": [
    {
     "name": "stdout",
     "output_type": "stream",
     "text": [
      "Collecting pycryptoNote: you may need to restart the kernel to use updated packages.\n",
      "  Downloading pycrypto-2.6.1.tar.gz (446 kB)\n",
      "Building wheels for collected packages: pycrypto\n",
      "  Building wheel for pycrypto (setup.py): started\n",
      "  Building wheel for pycrypto (setup.py): finished with status 'error'\n",
      "\n"
     ]
    },
    {
     "name": "stderr",
     "output_type": "stream",
     "text": [
      "  ERROR: Command errored out with exit status 1:\n",
      "   command: 'C:\\Users\\neha_marne\\Anaconda3\\envs\\django\\python.exe' -u -c 'import io, os, sys, setuptools, tokenize; sys.argv[0] = '\"'\"'C:\\\\Users\\\\neha_marne\\\\AppData\\\\Local\\\\Temp\\\\pip-install-zl4qsq1f\\\\pycrypto_cdba41b4b5b64f18981671a784bab5e9\\\\setup.py'\"'\"'; __file__='\"'\"'C:\\\\Users\\\\neha_marne\\\\AppData\\\\Local\\\\Temp\\\\pip-install-zl4qsq1f\\\\pycrypto_cdba41b4b5b64f18981671a784bab5e9\\\\setup.py'\"'\"';f = getattr(tokenize, '\"'\"'open'\"'\"', open)(__file__) if os.path.exists(__file__) else io.StringIO('\"'\"'from setuptools import setup; setup()'\"'\"');code = f.read().replace('\"'\"'\\r\\n'\"'\"', '\"'\"'\\n'\"'\"');f.close();exec(compile(code, __file__, '\"'\"'exec'\"'\"'))' bdist_wheel -d 'C:\\Users\\neha_marne\\AppData\\Local\\Temp\\pip-wheel-2u20hplw'\n",
      "       cwd: C:\\Users\\neha_marne\\AppData\\Local\\Temp\\pip-install-zl4qsq1f\\pycrypto_cdba41b4b5b64f18981671a784bab5e9\\\n",
      "  Complete output (153 lines):\n",
      "  running bdist_wheel\n",
      "  running build\n",
      "  running build_py\n",
      "  creating build\n",
      "  creating build\\lib.win-amd64-3.8\n",
      "  creating build\\lib.win-amd64-3.8\\Crypto\n",
      "  copying lib\\Crypto\\pct_warnings.py -> build\\lib.win-amd64-3.8\\Crypto\n",
      "  copying lib\\Crypto\\__init__.py -> build\\lib.win-amd64-3.8\\Crypto\n",
      "  creating build\\lib.win-amd64-3.8\\Crypto\\Hash\n",
      "  copying lib\\Crypto\\Hash\\hashalgo.py -> build\\lib.win-amd64-3.8\\Crypto\\Hash\n",
      "  copying lib\\Crypto\\Hash\\HMAC.py -> build\\lib.win-amd64-3.8\\Crypto\\Hash\n",
      "  copying lib\\Crypto\\Hash\\MD2.py -> build\\lib.win-amd64-3.8\\Crypto\\Hash\n",
      "  copying lib\\Crypto\\Hash\\MD4.py -> build\\lib.win-amd64-3.8\\Crypto\\Hash\n",
      "  copying lib\\Crypto\\Hash\\MD5.py -> build\\lib.win-amd64-3.8\\Crypto\\Hash\n",
      "  copying lib\\Crypto\\Hash\\RIPEMD.py -> build\\lib.win-amd64-3.8\\Crypto\\Hash\n",
      "  copying lib\\Crypto\\Hash\\SHA.py -> build\\lib.win-amd64-3.8\\Crypto\\Hash\n",
      "  copying lib\\Crypto\\Hash\\SHA224.py -> build\\lib.win-amd64-3.8\\Crypto\\Hash\n",
      "  copying lib\\Crypto\\Hash\\SHA256.py -> build\\lib.win-amd64-3.8\\Crypto\\Hash\n",
      "  copying lib\\Crypto\\Hash\\SHA384.py -> build\\lib.win-amd64-3.8\\Crypto\\Hash\n",
      "  copying lib\\Crypto\\Hash\\SHA512.py -> build\\lib.win-amd64-3.8\\Crypto\\Hash\n",
      "  copying lib\\Crypto\\Hash\\__init__.py -> build\\lib.win-amd64-3.8\\Crypto\\Hash\n",
      "  creating build\\lib.win-amd64-3.8\\Crypto\\Cipher\n",
      "  copying lib\\Crypto\\Cipher\\AES.py -> build\\lib.win-amd64-3.8\\Crypto\\Cipher\n",
      "  copying lib\\Crypto\\Cipher\\ARC2.py -> build\\lib.win-amd64-3.8\\Crypto\\Cipher\n",
      "  copying lib\\Crypto\\Cipher\\ARC4.py -> build\\lib.win-amd64-3.8\\Crypto\\Cipher\n",
      "  copying lib\\Crypto\\Cipher\\blockalgo.py -> build\\lib.win-amd64-3.8\\Crypto\\Cipher\n",
      "  copying lib\\Crypto\\Cipher\\Blowfish.py -> build\\lib.win-amd64-3.8\\Crypto\\Cipher\n",
      "  copying lib\\Crypto\\Cipher\\CAST.py -> build\\lib.win-amd64-3.8\\Crypto\\Cipher\n",
      "  copying lib\\Crypto\\Cipher\\DES.py -> build\\lib.win-amd64-3.8\\Crypto\\Cipher\n",
      "  copying lib\\Crypto\\Cipher\\DES3.py -> build\\lib.win-amd64-3.8\\Crypto\\Cipher\n",
      "  copying lib\\Crypto\\Cipher\\PKCS1_OAEP.py -> build\\lib.win-amd64-3.8\\Crypto\\Cipher\n",
      "  copying lib\\Crypto\\Cipher\\PKCS1_v1_5.py -> build\\lib.win-amd64-3.8\\Crypto\\Cipher\n",
      "  copying lib\\Crypto\\Cipher\\XOR.py -> build\\lib.win-amd64-3.8\\Crypto\\Cipher\n",
      "  copying lib\\Crypto\\Cipher\\__init__.py -> build\\lib.win-amd64-3.8\\Crypto\\Cipher\n",
      "  creating build\\lib.win-amd64-3.8\\Crypto\\Util\n",
      "  copying lib\\Crypto\\Util\\asn1.py -> build\\lib.win-amd64-3.8\\Crypto\\Util\n",
      "  copying lib\\Crypto\\Util\\Counter.py -> build\\lib.win-amd64-3.8\\Crypto\\Util\n",
      "  copying lib\\Crypto\\Util\\number.py -> build\\lib.win-amd64-3.8\\Crypto\\Util\n",
      "  copying lib\\Crypto\\Util\\py3compat.py -> build\\lib.win-amd64-3.8\\Crypto\\Util\n",
      "  copying lib\\Crypto\\Util\\randpool.py -> build\\lib.win-amd64-3.8\\Crypto\\Util\n",
      "  copying lib\\Crypto\\Util\\RFC1751.py -> build\\lib.win-amd64-3.8\\Crypto\\Util\n",
      "  copying lib\\Crypto\\Util\\winrandom.py -> build\\lib.win-amd64-3.8\\Crypto\\Util\n",
      "  copying lib\\Crypto\\Util\\_number_new.py -> build\\lib.win-amd64-3.8\\Crypto\\Util\n",
      "  copying lib\\Crypto\\Util\\__init__.py -> build\\lib.win-amd64-3.8\\Crypto\\Util\n",
      "  creating build\\lib.win-amd64-3.8\\Crypto\\Random\n",
      "  copying lib\\Crypto\\Random\\random.py -> build\\lib.win-amd64-3.8\\Crypto\\Random\n",
      "  copying lib\\Crypto\\Random\\_UserFriendlyRNG.py -> build\\lib.win-amd64-3.8\\Crypto\\Random\n",
      "  copying lib\\Crypto\\Random\\__init__.py -> build\\lib.win-amd64-3.8\\Crypto\\Random\n",
      "  creating build\\lib.win-amd64-3.8\\Crypto\\Random\\Fortuna\n",
      "  copying lib\\Crypto\\Random\\Fortuna\\FortunaAccumulator.py -> build\\lib.win-amd64-3.8\\Crypto\\Random\\Fortuna\n",
      "  copying lib\\Crypto\\Random\\Fortuna\\FortunaGenerator.py -> build\\lib.win-amd64-3.8\\Crypto\\Random\\Fortuna\n",
      "  copying lib\\Crypto\\Random\\Fortuna\\SHAd256.py -> build\\lib.win-amd64-3.8\\Crypto\\Random\\Fortuna\n",
      "  copying lib\\Crypto\\Random\\Fortuna\\__init__.py -> build\\lib.win-amd64-3.8\\Crypto\\Random\\Fortuna\n",
      "  creating build\\lib.win-amd64-3.8\\Crypto\\Random\\OSRNG\n",
      "  copying lib\\Crypto\\Random\\OSRNG\\fallback.py -> build\\lib.win-amd64-3.8\\Crypto\\Random\\OSRNG\n",
      "  copying lib\\Crypto\\Random\\OSRNG\\nt.py -> build\\lib.win-amd64-3.8\\Crypto\\Random\\OSRNG\n",
      "  copying lib\\Crypto\\Random\\OSRNG\\posix.py -> build\\lib.win-amd64-3.8\\Crypto\\Random\\OSRNG\n",
      "  copying lib\\Crypto\\Random\\OSRNG\\rng_base.py -> build\\lib.win-amd64-3.8\\Crypto\\Random\\OSRNG\n",
      "  copying lib\\Crypto\\Random\\OSRNG\\__init__.py -> build\\lib.win-amd64-3.8\\Crypto\\Random\\OSRNG\n",
      "  creating build\\lib.win-amd64-3.8\\Crypto\\SelfTest\n",
      "  copying lib\\Crypto\\SelfTest\\st_common.py -> build\\lib.win-amd64-3.8\\Crypto\\SelfTest\n",
      "  copying lib\\Crypto\\SelfTest\\__init__.py -> build\\lib.win-amd64-3.8\\Crypto\\SelfTest\n",
      "  creating build\\lib.win-amd64-3.8\\Crypto\\SelfTest\\Cipher\n",
      "  copying lib\\Crypto\\SelfTest\\Cipher\\common.py -> build\\lib.win-amd64-3.8\\Crypto\\SelfTest\\Cipher\n",
      "  copying lib\\Crypto\\SelfTest\\Cipher\\test_AES.py -> build\\lib.win-amd64-3.8\\Crypto\\SelfTest\\Cipher\n",
      "  copying lib\\Crypto\\SelfTest\\Cipher\\test_ARC2.py -> build\\lib.win-amd64-3.8\\Crypto\\SelfTest\\Cipher\n",
      "  copying lib\\Crypto\\SelfTest\\Cipher\\test_ARC4.py -> build\\lib.win-amd64-3.8\\Crypto\\SelfTest\\Cipher\n",
      "  copying lib\\Crypto\\SelfTest\\Cipher\\test_Blowfish.py -> build\\lib.win-amd64-3.8\\Crypto\\SelfTest\\Cipher\n",
      "  copying lib\\Crypto\\SelfTest\\Cipher\\test_CAST.py -> build\\lib.win-amd64-3.8\\Crypto\\SelfTest\\Cipher\n",
      "  copying lib\\Crypto\\SelfTest\\Cipher\\test_DES.py -> build\\lib.win-amd64-3.8\\Crypto\\SelfTest\\Cipher\n",
      "  copying lib\\Crypto\\SelfTest\\Cipher\\test_DES3.py -> build\\lib.win-amd64-3.8\\Crypto\\SelfTest\\Cipher\n",
      "  copying lib\\Crypto\\SelfTest\\Cipher\\test_pkcs1_15.py -> build\\lib.win-amd64-3.8\\Crypto\\SelfTest\\Cipher\n",
      "  copying lib\\Crypto\\SelfTest\\Cipher\\test_pkcs1_oaep.py -> build\\lib.win-amd64-3.8\\Crypto\\SelfTest\\Cipher\n",
      "  copying lib\\Crypto\\SelfTest\\Cipher\\test_XOR.py -> build\\lib.win-amd64-3.8\\Crypto\\SelfTest\\Cipher\n",
      "  copying lib\\Crypto\\SelfTest\\Cipher\\__init__.py -> build\\lib.win-amd64-3.8\\Crypto\\SelfTest\\Cipher\n",
      "  creating build\\lib.win-amd64-3.8\\Crypto\\SelfTest\\Hash\n",
      "  copying lib\\Crypto\\SelfTest\\Hash\\common.py -> build\\lib.win-amd64-3.8\\Crypto\\SelfTest\\Hash\n",
      "  copying lib\\Crypto\\SelfTest\\Hash\\test_HMAC.py -> build\\lib.win-amd64-3.8\\Crypto\\SelfTest\\Hash\n",
      "  copying lib\\Crypto\\SelfTest\\Hash\\test_MD2.py -> build\\lib.win-amd64-3.8\\Crypto\\SelfTest\\Hash\n",
      "  copying lib\\Crypto\\SelfTest\\Hash\\test_MD4.py -> build\\lib.win-amd64-3.8\\Crypto\\SelfTest\\Hash\n",
      "  copying lib\\Crypto\\SelfTest\\Hash\\test_MD5.py -> build\\lib.win-amd64-3.8\\Crypto\\SelfTest\\Hash\n",
      "  copying lib\\Crypto\\SelfTest\\Hash\\test_RIPEMD.py -> build\\lib.win-amd64-3.8\\Crypto\\SelfTest\\Hash\n",
      "  copying lib\\Crypto\\SelfTest\\Hash\\test_SHA.py -> build\\lib.win-amd64-3.8\\Crypto\\SelfTest\\Hash\n",
      "  copying lib\\Crypto\\SelfTest\\Hash\\test_SHA224.py -> build\\lib.win-amd64-3.8\\Crypto\\SelfTest\\Hash\n",
      "  copying lib\\Crypto\\SelfTest\\Hash\\test_SHA256.py -> build\\lib.win-amd64-3.8\\Crypto\\SelfTest\\Hash\n",
      "  copying lib\\Crypto\\SelfTest\\Hash\\test_SHA384.py -> build\\lib.win-amd64-3.8\\Crypto\\SelfTest\\Hash\n",
      "  copying lib\\Crypto\\SelfTest\\Hash\\test_SHA512.py -> build\\lib.win-amd64-3.8\\Crypto\\SelfTest\\Hash\n",
      "  copying lib\\Crypto\\SelfTest\\Hash\\__init__.py -> build\\lib.win-amd64-3.8\\Crypto\\SelfTest\\Hash\n",
      "  creating build\\lib.win-amd64-3.8\\Crypto\\SelfTest\\Protocol\n",
      "  copying lib\\Crypto\\SelfTest\\Protocol\\test_AllOrNothing.py -> build\\lib.win-amd64-3.8\\Crypto\\SelfTest\\Protocol\n",
      "  copying lib\\Crypto\\SelfTest\\Protocol\\test_chaffing.py -> build\\lib.win-amd64-3.8\\Crypto\\SelfTest\\Protocol\n",
      "  copying lib\\Crypto\\SelfTest\\Protocol\\test_KDF.py -> build\\lib.win-amd64-3.8\\Crypto\\SelfTest\\Protocol\n",
      "  copying lib\\Crypto\\SelfTest\\Protocol\\test_rfc1751.py -> build\\lib.win-amd64-3.8\\Crypto\\SelfTest\\Protocol\n",
      "  copying lib\\Crypto\\SelfTest\\Protocol\\__init__.py -> build\\lib.win-amd64-3.8\\Crypto\\SelfTest\\Protocol\n",
      "  creating build\\lib.win-amd64-3.8\\Crypto\\SelfTest\\PublicKey\n",
      "  copying lib\\Crypto\\SelfTest\\PublicKey\\test_DSA.py -> build\\lib.win-amd64-3.8\\Crypto\\SelfTest\\PublicKey\n",
      "  copying lib\\Crypto\\SelfTest\\PublicKey\\test_ElGamal.py -> build\\lib.win-amd64-3.8\\Crypto\\SelfTest\\PublicKey\n",
      "  copying lib\\Crypto\\SelfTest\\PublicKey\\test_importKey.py -> build\\lib.win-amd64-3.8\\Crypto\\SelfTest\\PublicKey\n",
      "  copying lib\\Crypto\\SelfTest\\PublicKey\\test_RSA.py -> build\\lib.win-amd64-3.8\\Crypto\\SelfTest\\PublicKey\n",
      "  copying lib\\Crypto\\SelfTest\\PublicKey\\__init__.py -> build\\lib.win-amd64-3.8\\Crypto\\SelfTest\\PublicKey\n",
      "  creating build\\lib.win-amd64-3.8\\Crypto\\SelfTest\\Random\n",
      "  copying lib\\Crypto\\SelfTest\\Random\\test_random.py -> build\\lib.win-amd64-3.8\\Crypto\\SelfTest\\Random\n",
      "  copying lib\\Crypto\\SelfTest\\Random\\test_rpoolcompat.py -> build\\lib.win-amd64-3.8\\Crypto\\SelfTest\\Random\n",
      "  copying lib\\Crypto\\SelfTest\\Random\\test__UserFriendlyRNG.py -> build\\lib.win-amd64-3.8\\Crypto\\SelfTest\\Random\n",
      "  copying lib\\Crypto\\SelfTest\\Random\\__init__.py -> build\\lib.win-amd64-3.8\\Crypto\\SelfTest\\Random\n",
      "  creating build\\lib.win-amd64-3.8\\Crypto\\SelfTest\\Random\\Fortuna\n",
      "  copying lib\\Crypto\\SelfTest\\Random\\Fortuna\\test_FortunaAccumulator.py -> build\\lib.win-amd64-3.8\\Crypto\\SelfTest\\Random\\Fortuna\n",
      "  copying lib\\Crypto\\SelfTest\\Random\\Fortuna\\test_FortunaGenerator.py -> build\\lib.win-amd64-3.8\\Crypto\\SelfTest\\Random\\Fortuna\n",
      "  copying lib\\Crypto\\SelfTest\\Random\\Fortuna\\test_SHAd256.py -> build\\lib.win-amd64-3.8\\Crypto\\SelfTest\\Random\\Fortuna\n",
      "  copying lib\\Crypto\\SelfTest\\Random\\Fortuna\\__init__.py -> build\\lib.win-amd64-3.8\\Crypto\\SelfTest\\Random\\Fortuna\n",
      "  creating build\\lib.win-amd64-3.8\\Crypto\\SelfTest\\Random\\OSRNG\n",
      "  copying lib\\Crypto\\SelfTest\\Random\\OSRNG\\test_fallback.py -> build\\lib.win-amd64-3.8\\Crypto\\SelfTest\\Random\\OSRNG\n",
      "  copying lib\\Crypto\\SelfTest\\Random\\OSRNG\\test_generic.py -> build\\lib.win-amd64-3.8\\Crypto\\SelfTest\\Random\\OSRNG\n",
      "  copying lib\\Crypto\\SelfTest\\Random\\OSRNG\\test_nt.py -> build\\lib.win-amd64-3.8\\Crypto\\SelfTest\\Random\\OSRNG\n",
      "  copying lib\\Crypto\\SelfTest\\Random\\OSRNG\\test_posix.py -> build\\lib.win-amd64-3.8\\Crypto\\SelfTest\\Random\\OSRNG\n",
      "  copying lib\\Crypto\\SelfTest\\Random\\OSRNG\\test_winrandom.py -> build\\lib.win-amd64-3.8\\Crypto\\SelfTest\\Random\\OSRNG\n",
      "  copying lib\\Crypto\\SelfTest\\Random\\OSRNG\\__init__.py -> build\\lib.win-amd64-3.8\\Crypto\\SelfTest\\Random\\OSRNG\n",
      "  creating build\\lib.win-amd64-3.8\\Crypto\\SelfTest\\Util\n",
      "  copying lib\\Crypto\\SelfTest\\Util\\test_asn1.py -> build\\lib.win-amd64-3.8\\Crypto\\SelfTest\\Util\n",
      "  copying lib\\Crypto\\SelfTest\\Util\\test_Counter.py -> build\\lib.win-amd64-3.8\\Crypto\\SelfTest\\Util\n",
      "  copying lib\\Crypto\\SelfTest\\Util\\test_number.py -> build\\lib.win-amd64-3.8\\Crypto\\SelfTest\\Util\n",
      "  copying lib\\Crypto\\SelfTest\\Util\\test_winrandom.py -> build\\lib.win-amd64-3.8\\Crypto\\SelfTest\\Util\n",
      "  copying lib\\Crypto\\SelfTest\\Util\\__init__.py -> build\\lib.win-amd64-3.8\\Crypto\\SelfTest\\Util\n",
      "  creating build\\lib.win-amd64-3.8\\Crypto\\SelfTest\\Signature\n",
      "  copying lib\\Crypto\\SelfTest\\Signature\\test_pkcs1_15.py -> build\\lib.win-amd64-3.8\\Crypto\\SelfTest\\Signature\n",
      "  copying lib\\Crypto\\SelfTest\\Signature\\test_pkcs1_pss.py -> build\\lib.win-amd64-3.8\\Crypto\\SelfTest\\Signature\n",
      "  copying lib\\Crypto\\SelfTest\\Signature\\__init__.py -> build\\lib.win-amd64-3.8\\Crypto\\SelfTest\\Signature\n",
      "  creating build\\lib.win-amd64-3.8\\Crypto\\Protocol\n",
      "  copying lib\\Crypto\\Protocol\\AllOrNothing.py -> build\\lib.win-amd64-3.8\\Crypto\\Protocol\n",
      "  copying lib\\Crypto\\Protocol\\Chaffing.py -> build\\lib.win-amd64-3.8\\Crypto\\Protocol\n",
      "  copying lib\\Crypto\\Protocol\\KDF.py -> build\\lib.win-amd64-3.8\\Crypto\\Protocol\n",
      "  copying lib\\Crypto\\Protocol\\__init__.py -> build\\lib.win-amd64-3.8\\Crypto\\Protocol\n",
      "  creating build\\lib.win-amd64-3.8\\Crypto\\PublicKey\n",
      "  copying lib\\Crypto\\PublicKey\\DSA.py -> build\\lib.win-amd64-3.8\\Crypto\\PublicKey\n",
      "  copying lib\\Crypto\\PublicKey\\ElGamal.py -> build\\lib.win-amd64-3.8\\Crypto\\PublicKey\n",
      "  copying lib\\Crypto\\PublicKey\\pubkey.py -> build\\lib.win-amd64-3.8\\Crypto\\PublicKey\n",
      "  copying lib\\Crypto\\PublicKey\\RSA.py -> build\\lib.win-amd64-3.8\\Crypto\\PublicKey\n",
      "  copying lib\\Crypto\\PublicKey\\_DSA.py -> build\\lib.win-amd64-3.8\\Crypto\\PublicKey\n",
      "  copying lib\\Crypto\\PublicKey\\_RSA.py -> build\\lib.win-amd64-3.8\\Crypto\\PublicKey\n",
      "  copying lib\\Crypto\\PublicKey\\_slowmath.py -> build\\lib.win-amd64-3.8\\Crypto\\PublicKey\n",
      "  copying lib\\Crypto\\PublicKey\\__init__.py -> build\\lib.win-amd64-3.8\\Crypto\\PublicKey\n",
      "  creating build\\lib.win-amd64-3.8\\Crypto\\Signature\n",
      "  copying lib\\Crypto\\Signature\\PKCS1_PSS.py -> build\\lib.win-amd64-3.8\\Crypto\\Signature\n",
      "  copying lib\\Crypto\\Signature\\PKCS1_v1_5.py -> build\\lib.win-amd64-3.8\\Crypto\\Signature\n",
      "  copying lib\\Crypto\\Signature\\__init__.py -> build\\lib.win-amd64-3.8\\Crypto\\Signature\n",
      "  Skipping optional fixer: buffer\n",
      "  Skipping optional fixer: idioms\n",
      "  Skipping optional fixer: set_literal\n",
      "  Skipping optional fixer: ws_comma\n",
      "  running build_ext\n",
      "  warning: GMP or MPIR library not found; Not building Crypto.PublicKey._fastmath.\n",
      "  building 'Crypto.Random.OSRNG.winrandom' extension\n",
      "  error: Microsoft Visual C++ 14.0 or greater is required. Get it with \"Microsoft C++ Build Tools\": https://visualstudio.microsoft.com/visual-cpp-build-tools/\n",
      "  ----------------------------------------\n",
      "  ERROR: Failed building wheel for pycrypto\n",
      "    ERROR: Command errored out with exit status 1:\n",
      "     command: 'C:\\Users\\neha_marne\\Anaconda3\\envs\\django\\python.exe' -u -c 'import io, os, sys, setuptools, tokenize; sys.argv[0] = '\"'\"'C:\\\\Users\\\\neha_marne\\\\AppData\\\\Local\\\\Temp\\\\pip-install-zl4qsq1f\\\\pycrypto_cdba41b4b5b64f18981671a784bab5e9\\\\setup.py'\"'\"'; __file__='\"'\"'C:\\\\Users\\\\neha_marne\\\\AppData\\\\Local\\\\Temp\\\\pip-install-zl4qsq1f\\\\pycrypto_cdba41b4b5b64f18981671a784bab5e9\\\\setup.py'\"'\"';f = getattr(tokenize, '\"'\"'open'\"'\"', open)(__file__) if os.path.exists(__file__) else io.StringIO('\"'\"'from setuptools import setup; setup()'\"'\"');code = f.read().replace('\"'\"'\\r\\n'\"'\"', '\"'\"'\\n'\"'\"');f.close();exec(compile(code, __file__, '\"'\"'exec'\"'\"'))' install --record 'C:\\Users\\neha_marne\\AppData\\Local\\Temp\\pip-record-pp8n22gs\\install-record.txt' --single-version-externally-managed --compile --install-headers 'C:\\Users\\neha_marne\\Anaconda3\\envs\\django\\Include\\pycrypto'\n",
      "         cwd: C:\\Users\\neha_marne\\AppData\\Local\\Temp\\pip-install-zl4qsq1f\\pycrypto_cdba41b4b5b64f18981671a784bab5e9\\\n",
      "    Complete output (153 lines):\n",
      "    running install\n",
      "    running build\n",
      "    running build_py\n",
      "    creating build\n",
      "    creating build\\lib.win-amd64-3.8\n",
      "    creating build\\lib.win-amd64-3.8\\Crypto\n",
      "    copying lib\\Crypto\\pct_warnings.py -> build\\lib.win-amd64-3.8\\Crypto\n",
      "    copying lib\\Crypto\\__init__.py -> build\\lib.win-amd64-3.8\\Crypto\n",
      "    creating build\\lib.win-amd64-3.8\\Crypto\\Hash\n",
      "    copying lib\\Crypto\\Hash\\hashalgo.py -> build\\lib.win-amd64-3.8\\Crypto\\Hash\n",
      "    copying lib\\Crypto\\Hash\\HMAC.py -> build\\lib.win-amd64-3.8\\Crypto\\Hash\n",
      "    copying lib\\Crypto\\Hash\\MD2.py -> build\\lib.win-amd64-3.8\\Crypto\\Hash\n",
      "    copying lib\\Crypto\\Hash\\MD4.py -> build\\lib.win-amd64-3.8\\Crypto\\Hash\n",
      "    copying lib\\Crypto\\Hash\\MD5.py -> build\\lib.win-amd64-3.8\\Crypto\\Hash\n",
      "    copying lib\\Crypto\\Hash\\RIPEMD.py -> build\\lib.win-amd64-3.8\\Crypto\\Hash\n",
      "    copying lib\\Crypto\\Hash\\SHA.py -> build\\lib.win-amd64-3.8\\Crypto\\Hash\n",
      "    copying lib\\Crypto\\Hash\\SHA224.py -> build\\lib.win-amd64-3.8\\Crypto\\Hash\n",
      "    copying lib\\Crypto\\Hash\\SHA256.py -> build\\lib.win-amd64-3.8\\Crypto\\Hash\n",
      "    copying lib\\Crypto\\Hash\\SHA384.py -> build\\lib.win-amd64-3.8\\Crypto\\Hash\n",
      "    copying lib\\Crypto\\Hash\\SHA512.py -> build\\lib.win-amd64-3.8\\Crypto\\Hash\n",
      "    copying lib\\Crypto\\Hash\\__init__.py -> build\\lib.win-amd64-3.8\\Crypto\\Hash\n",
      "    creating build\\lib.win-amd64-3.8\\Crypto\\Cipher\n",
      "    copying lib\\Crypto\\Cipher\\AES.py -> build\\lib.win-amd64-3.8\\Crypto\\Cipher\n",
      "    copying lib\\Crypto\\Cipher\\ARC2.py -> build\\lib.win-amd64-3.8\\Crypto\\Cipher\n",
      "    copying lib\\Crypto\\Cipher\\ARC4.py -> build\\lib.win-amd64-3.8\\Crypto\\Cipher\n",
      "    copying lib\\Crypto\\Cipher\\blockalgo.py -> build\\lib.win-amd64-3.8\\Crypto\\Cipher\n",
      "    copying lib\\Crypto\\Cipher\\Blowfish.py -> build\\lib.win-amd64-3.8\\Crypto\\Cipher\n",
      "    copying lib\\Crypto\\Cipher\\CAST.py -> build\\lib.win-amd64-3.8\\Crypto\\Cipher\n",
      "    copying lib\\Crypto\\Cipher\\DES.py -> build\\lib.win-amd64-3.8\\Crypto\\Cipher\n",
      "    copying lib\\Crypto\\Cipher\\DES3.py -> build\\lib.win-amd64-3.8\\Crypto\\Cipher\n",
      "    copying lib\\Crypto\\Cipher\\PKCS1_OAEP.py -> build\\lib.win-amd64-3.8\\Crypto\\Cipher\n",
      "    copying lib\\Crypto\\Cipher\\PKCS1_v1_5.py -> build\\lib.win-amd64-3.8\\Crypto\\Cipher\n",
      "    copying lib\\Crypto\\Cipher\\XOR.py -> build\\lib.win-amd64-3.8\\Crypto\\Cipher\n",
      "    copying lib\\Crypto\\Cipher\\__init__.py -> build\\lib.win-amd64-3.8\\Crypto\\Cipher\n",
      "    creating build\\lib.win-amd64-3.8\\Crypto\\Util\n",
      "    copying lib\\Crypto\\Util\\asn1.py -> build\\lib.win-amd64-3.8\\Crypto\\Util\n",
      "    copying lib\\Crypto\\Util\\Counter.py -> build\\lib.win-amd64-3.8\\Crypto\\Util\n",
      "    copying lib\\Crypto\\Util\\number.py -> build\\lib.win-amd64-3.8\\Crypto\\Util\n",
      "    copying lib\\Crypto\\Util\\py3compat.py -> build\\lib.win-amd64-3.8\\Crypto\\Util\n",
      "    copying lib\\Crypto\\Util\\randpool.py -> build\\lib.win-amd64-3.8\\Crypto\\Util\n",
      "    copying lib\\Crypto\\Util\\RFC1751.py -> build\\lib.win-amd64-3.8\\Crypto\\Util\n",
      "    copying lib\\Crypto\\Util\\winrandom.py -> build\\lib.win-amd64-3.8\\Crypto\\Util\n",
      "    copying lib\\Crypto\\Util\\_number_new.py -> build\\lib.win-amd64-3.8\\Crypto\\Util\n",
      "    copying lib\\Crypto\\Util\\__init__.py -> build\\lib.win-amd64-3.8\\Crypto\\Util\n",
      "    creating build\\lib.win-amd64-3.8\\Crypto\\Random\n",
      "    copying lib\\Crypto\\Random\\random.py -> build\\lib.win-amd64-3.8\\Crypto\\Random\n",
      "    copying lib\\Crypto\\Random\\_UserFriendlyRNG.py -> build\\lib.win-amd64-3.8\\Crypto\\Random\n",
      "    copying lib\\Crypto\\Random\\__init__.py -> build\\lib.win-amd64-3.8\\Crypto\\Random\n",
      "    creating build\\lib.win-amd64-3.8\\Crypto\\Random\\Fortuna\n",
      "    copying lib\\Crypto\\Random\\Fortuna\\FortunaAccumulator.py -> build\\lib.win-amd64-3.8\\Crypto\\Random\\Fortuna\n",
      "    copying lib\\Crypto\\Random\\Fortuna\\FortunaGenerator.py -> build\\lib.win-amd64-3.8\\Crypto\\Random\\Fortuna\n",
      "    copying lib\\Crypto\\Random\\Fortuna\\SHAd256.py -> build\\lib.win-amd64-3.8\\Crypto\\Random\\Fortuna\n",
      "    copying lib\\Crypto\\Random\\Fortuna\\__init__.py -> build\\lib.win-amd64-3.8\\Crypto\\Random\\Fortuna\n",
      "    creating build\\lib.win-amd64-3.8\\Crypto\\Random\\OSRNG\n",
      "    copying lib\\Crypto\\Random\\OSRNG\\fallback.py -> build\\lib.win-amd64-3.8\\Crypto\\Random\\OSRNG\n",
      "    copying lib\\Crypto\\Random\\OSRNG\\nt.py -> build\\lib.win-amd64-3.8\\Crypto\\Random\\OSRNG\n",
      "    copying lib\\Crypto\\Random\\OSRNG\\posix.py -> build\\lib.win-amd64-3.8\\Crypto\\Random\\OSRNG\n",
      "    copying lib\\Crypto\\Random\\OSRNG\\rng_base.py -> build\\lib.win-amd64-3.8\\Crypto\\Random\\OSRNG\n",
      "    copying lib\\Crypto\\Random\\OSRNG\\__init__.py -> build\\lib.win-amd64-3.8\\Crypto\\Random\\OSRNG\n",
      "    creating build\\lib.win-amd64-3.8\\Crypto\\SelfTest\n",
      "    copying lib\\Crypto\\SelfTest\\st_common.py -> build\\lib.win-amd64-3.8\\Crypto\\SelfTest\n",
      "    copying lib\\Crypto\\SelfTest\\__init__.py -> build\\lib.win-amd64-3.8\\Crypto\\SelfTest\n",
      "    creating build\\lib.win-amd64-3.8\\Crypto\\SelfTest\\Cipher\n",
      "    copying lib\\Crypto\\SelfTest\\Cipher\\common.py -> build\\lib.win-amd64-3.8\\Crypto\\SelfTest\\Cipher\n",
      "    copying lib\\Crypto\\SelfTest\\Cipher\\test_AES.py -> build\\lib.win-amd64-3.8\\Crypto\\SelfTest\\Cipher\n",
      "    copying lib\\Crypto\\SelfTest\\Cipher\\test_ARC2.py -> build\\lib.win-amd64-3.8\\Crypto\\SelfTest\\Cipher\n",
      "    copying lib\\Crypto\\SelfTest\\Cipher\\test_ARC4.py -> build\\lib.win-amd64-3.8\\Crypto\\SelfTest\\Cipher\n",
      "    copying lib\\Crypto\\SelfTest\\Cipher\\test_Blowfish.py -> build\\lib.win-amd64-3.8\\Crypto\\SelfTest\\Cipher\n",
      "    copying lib\\Crypto\\SelfTest\\Cipher\\test_CAST.py -> build\\lib.win-amd64-3.8\\Crypto\\SelfTest\\Cipher\n",
      "    copying lib\\Crypto\\SelfTest\\Cipher\\test_DES.py -> build\\lib.win-amd64-3.8\\Crypto\\SelfTest\\Cipher\n",
      "    copying lib\\Crypto\\SelfTest\\Cipher\\test_DES3.py -> build\\lib.win-amd64-3.8\\Crypto\\SelfTest\\Cipher\n",
      "    copying lib\\Crypto\\SelfTest\\Cipher\\test_pkcs1_15.py -> build\\lib.win-amd64-3.8\\Crypto\\SelfTest\\Cipher\n",
      "    copying lib\\Crypto\\SelfTest\\Cipher\\test_pkcs1_oaep.py -> build\\lib.win-amd64-3.8\\Crypto\\SelfTest\\Cipher\n",
      "    copying lib\\Crypto\\SelfTest\\Cipher\\test_XOR.py -> build\\lib.win-amd64-3.8\\Crypto\\SelfTest\\Cipher\n",
      "    copying lib\\Crypto\\SelfTest\\Cipher\\__init__.py -> build\\lib.win-amd64-3.8\\Crypto\\SelfTest\\Cipher\n",
      "    creating build\\lib.win-amd64-3.8\\Crypto\\SelfTest\\Hash\n",
      "    copying lib\\Crypto\\SelfTest\\Hash\\common.py -> build\\lib.win-amd64-3.8\\Crypto\\SelfTest\\Hash\n"
     ]
    },
    {
     "name": "stdout",
     "output_type": "stream",
     "text": [
      "  Running setup.py clean for pycrypto\n",
      "Failed to build pycrypto\n",
      "Installing collected packages: pycrypto\n",
      "    Running setup.py install for pycrypto: started\n",
      "    Running setup.py install for pycrypto: finished with status 'error'\n"
     ]
    },
    {
     "name": "stderr",
     "output_type": "stream",
     "text": [
      "    copying lib\\Crypto\\SelfTest\\Hash\\test_HMAC.py -> build\\lib.win-amd64-3.8\\Crypto\\SelfTest\\Hash\n",
      "    copying lib\\Crypto\\SelfTest\\Hash\\test_MD2.py -> build\\lib.win-amd64-3.8\\Crypto\\SelfTest\\Hash\n",
      "    copying lib\\Crypto\\SelfTest\\Hash\\test_MD4.py -> build\\lib.win-amd64-3.8\\Crypto\\SelfTest\\Hash\n",
      "    copying lib\\Crypto\\SelfTest\\Hash\\test_MD5.py -> build\\lib.win-amd64-3.8\\Crypto\\SelfTest\\Hash\n",
      "    copying lib\\Crypto\\SelfTest\\Hash\\test_RIPEMD.py -> build\\lib.win-amd64-3.8\\Crypto\\SelfTest\\Hash\n",
      "    copying lib\\Crypto\\SelfTest\\Hash\\test_SHA.py -> build\\lib.win-amd64-3.8\\Crypto\\SelfTest\\Hash\n",
      "    copying lib\\Crypto\\SelfTest\\Hash\\test_SHA224.py -> build\\lib.win-amd64-3.8\\Crypto\\SelfTest\\Hash\n",
      "    copying lib\\Crypto\\SelfTest\\Hash\\test_SHA256.py -> build\\lib.win-amd64-3.8\\Crypto\\SelfTest\\Hash\n",
      "    copying lib\\Crypto\\SelfTest\\Hash\\test_SHA384.py -> build\\lib.win-amd64-3.8\\Crypto\\SelfTest\\Hash\n",
      "    copying lib\\Crypto\\SelfTest\\Hash\\test_SHA512.py -> build\\lib.win-amd64-3.8\\Crypto\\SelfTest\\Hash\n",
      "    copying lib\\Crypto\\SelfTest\\Hash\\__init__.py -> build\\lib.win-amd64-3.8\\Crypto\\SelfTest\\Hash\n",
      "    creating build\\lib.win-amd64-3.8\\Crypto\\SelfTest\\Protocol\n",
      "    copying lib\\Crypto\\SelfTest\\Protocol\\test_AllOrNothing.py -> build\\lib.win-amd64-3.8\\Crypto\\SelfTest\\Protocol\n",
      "    copying lib\\Crypto\\SelfTest\\Protocol\\test_chaffing.py -> build\\lib.win-amd64-3.8\\Crypto\\SelfTest\\Protocol\n",
      "    copying lib\\Crypto\\SelfTest\\Protocol\\test_KDF.py -> build\\lib.win-amd64-3.8\\Crypto\\SelfTest\\Protocol\n",
      "    copying lib\\Crypto\\SelfTest\\Protocol\\test_rfc1751.py -> build\\lib.win-amd64-3.8\\Crypto\\SelfTest\\Protocol\n",
      "    copying lib\\Crypto\\SelfTest\\Protocol\\__init__.py -> build\\lib.win-amd64-3.8\\Crypto\\SelfTest\\Protocol\n",
      "    creating build\\lib.win-amd64-3.8\\Crypto\\SelfTest\\PublicKey\n",
      "    copying lib\\Crypto\\SelfTest\\PublicKey\\test_DSA.py -> build\\lib.win-amd64-3.8\\Crypto\\SelfTest\\PublicKey\n",
      "    copying lib\\Crypto\\SelfTest\\PublicKey\\test_ElGamal.py -> build\\lib.win-amd64-3.8\\Crypto\\SelfTest\\PublicKey\n",
      "    copying lib\\Crypto\\SelfTest\\PublicKey\\test_importKey.py -> build\\lib.win-amd64-3.8\\Crypto\\SelfTest\\PublicKey\n",
      "    copying lib\\Crypto\\SelfTest\\PublicKey\\test_RSA.py -> build\\lib.win-amd64-3.8\\Crypto\\SelfTest\\PublicKey\n",
      "    copying lib\\Crypto\\SelfTest\\PublicKey\\__init__.py -> build\\lib.win-amd64-3.8\\Crypto\\SelfTest\\PublicKey\n",
      "    creating build\\lib.win-amd64-3.8\\Crypto\\SelfTest\\Random\n",
      "    copying lib\\Crypto\\SelfTest\\Random\\test_random.py -> build\\lib.win-amd64-3.8\\Crypto\\SelfTest\\Random\n",
      "    copying lib\\Crypto\\SelfTest\\Random\\test_rpoolcompat.py -> build\\lib.win-amd64-3.8\\Crypto\\SelfTest\\Random\n",
      "    copying lib\\Crypto\\SelfTest\\Random\\test__UserFriendlyRNG.py -> build\\lib.win-amd64-3.8\\Crypto\\SelfTest\\Random\n",
      "    copying lib\\Crypto\\SelfTest\\Random\\__init__.py -> build\\lib.win-amd64-3.8\\Crypto\\SelfTest\\Random\n",
      "    creating build\\lib.win-amd64-3.8\\Crypto\\SelfTest\\Random\\Fortuna\n",
      "    copying lib\\Crypto\\SelfTest\\Random\\Fortuna\\test_FortunaAccumulator.py -> build\\lib.win-amd64-3.8\\Crypto\\SelfTest\\Random\\Fortuna\n",
      "    copying lib\\Crypto\\SelfTest\\Random\\Fortuna\\test_FortunaGenerator.py -> build\\lib.win-amd64-3.8\\Crypto\\SelfTest\\Random\\Fortuna\n",
      "    copying lib\\Crypto\\SelfTest\\Random\\Fortuna\\test_SHAd256.py -> build\\lib.win-amd64-3.8\\Crypto\\SelfTest\\Random\\Fortuna\n",
      "    copying lib\\Crypto\\SelfTest\\Random\\Fortuna\\__init__.py -> build\\lib.win-amd64-3.8\\Crypto\\SelfTest\\Random\\Fortuna\n",
      "    creating build\\lib.win-amd64-3.8\\Crypto\\SelfTest\\Random\\OSRNG\n",
      "    copying lib\\Crypto\\SelfTest\\Random\\OSRNG\\test_fallback.py -> build\\lib.win-amd64-3.8\\Crypto\\SelfTest\\Random\\OSRNG\n",
      "    copying lib\\Crypto\\SelfTest\\Random\\OSRNG\\test_generic.py -> build\\lib.win-amd64-3.8\\Crypto\\SelfTest\\Random\\OSRNG\n",
      "    copying lib\\Crypto\\SelfTest\\Random\\OSRNG\\test_nt.py -> build\\lib.win-amd64-3.8\\Crypto\\SelfTest\\Random\\OSRNG\n",
      "    copying lib\\Crypto\\SelfTest\\Random\\OSRNG\\test_posix.py -> build\\lib.win-amd64-3.8\\Crypto\\SelfTest\\Random\\OSRNG\n",
      "    copying lib\\Crypto\\SelfTest\\Random\\OSRNG\\test_winrandom.py -> build\\lib.win-amd64-3.8\\Crypto\\SelfTest\\Random\\OSRNG\n",
      "    copying lib\\Crypto\\SelfTest\\Random\\OSRNG\\__init__.py -> build\\lib.win-amd64-3.8\\Crypto\\SelfTest\\Random\\OSRNG\n",
      "    creating build\\lib.win-amd64-3.8\\Crypto\\SelfTest\\Util\n",
      "    copying lib\\Crypto\\SelfTest\\Util\\test_asn1.py -> build\\lib.win-amd64-3.8\\Crypto\\SelfTest\\Util\n",
      "    copying lib\\Crypto\\SelfTest\\Util\\test_Counter.py -> build\\lib.win-amd64-3.8\\Crypto\\SelfTest\\Util\n",
      "    copying lib\\Crypto\\SelfTest\\Util\\test_number.py -> build\\lib.win-amd64-3.8\\Crypto\\SelfTest\\Util\n",
      "    copying lib\\Crypto\\SelfTest\\Util\\test_winrandom.py -> build\\lib.win-amd64-3.8\\Crypto\\SelfTest\\Util\n",
      "    copying lib\\Crypto\\SelfTest\\Util\\__init__.py -> build\\lib.win-amd64-3.8\\Crypto\\SelfTest\\Util\n",
      "    creating build\\lib.win-amd64-3.8\\Crypto\\SelfTest\\Signature\n",
      "    copying lib\\Crypto\\SelfTest\\Signature\\test_pkcs1_15.py -> build\\lib.win-amd64-3.8\\Crypto\\SelfTest\\Signature\n",
      "    copying lib\\Crypto\\SelfTest\\Signature\\test_pkcs1_pss.py -> build\\lib.win-amd64-3.8\\Crypto\\SelfTest\\Signature\n",
      "    copying lib\\Crypto\\SelfTest\\Signature\\__init__.py -> build\\lib.win-amd64-3.8\\Crypto\\SelfTest\\Signature\n",
      "    creating build\\lib.win-amd64-3.8\\Crypto\\Protocol\n",
      "    copying lib\\Crypto\\Protocol\\AllOrNothing.py -> build\\lib.win-amd64-3.8\\Crypto\\Protocol\n",
      "    copying lib\\Crypto\\Protocol\\Chaffing.py -> build\\lib.win-amd64-3.8\\Crypto\\Protocol\n",
      "    copying lib\\Crypto\\Protocol\\KDF.py -> build\\lib.win-amd64-3.8\\Crypto\\Protocol\n",
      "    copying lib\\Crypto\\Protocol\\__init__.py -> build\\lib.win-amd64-3.8\\Crypto\\Protocol\n",
      "    creating build\\lib.win-amd64-3.8\\Crypto\\PublicKey\n",
      "    copying lib\\Crypto\\PublicKey\\DSA.py -> build\\lib.win-amd64-3.8\\Crypto\\PublicKey\n",
      "    copying lib\\Crypto\\PublicKey\\ElGamal.py -> build\\lib.win-amd64-3.8\\Crypto\\PublicKey\n",
      "    copying lib\\Crypto\\PublicKey\\pubkey.py -> build\\lib.win-amd64-3.8\\Crypto\\PublicKey\n",
      "    copying lib\\Crypto\\PublicKey\\RSA.py -> build\\lib.win-amd64-3.8\\Crypto\\PublicKey\n",
      "    copying lib\\Crypto\\PublicKey\\_DSA.py -> build\\lib.win-amd64-3.8\\Crypto\\PublicKey\n",
      "    copying lib\\Crypto\\PublicKey\\_RSA.py -> build\\lib.win-amd64-3.8\\Crypto\\PublicKey\n",
      "    copying lib\\Crypto\\PublicKey\\_slowmath.py -> build\\lib.win-amd64-3.8\\Crypto\\PublicKey\n",
      "    copying lib\\Crypto\\PublicKey\\__init__.py -> build\\lib.win-amd64-3.8\\Crypto\\PublicKey\n",
      "    creating build\\lib.win-amd64-3.8\\Crypto\\Signature\n",
      "    copying lib\\Crypto\\Signature\\PKCS1_PSS.py -> build\\lib.win-amd64-3.8\\Crypto\\Signature\n",
      "    copying lib\\Crypto\\Signature\\PKCS1_v1_5.py -> build\\lib.win-amd64-3.8\\Crypto\\Signature\n",
      "    copying lib\\Crypto\\Signature\\__init__.py -> build\\lib.win-amd64-3.8\\Crypto\\Signature\n",
      "    Skipping optional fixer: buffer\n",
      "    Skipping optional fixer: idioms\n",
      "    Skipping optional fixer: set_literal\n",
      "    Skipping optional fixer: ws_comma\n",
      "    running build_ext\n",
      "    warning: GMP or MPIR library not found; Not building Crypto.PublicKey._fastmath.\n",
      "    building 'Crypto.Random.OSRNG.winrandom' extension\n",
      "    error: Microsoft Visual C++ 14.0 or greater is required. Get it with \"Microsoft C++ Build Tools\": https://visualstudio.microsoft.com/visual-cpp-build-tools/\n",
      "    ----------------------------------------\n",
      "ERROR: Command errored out with exit status 1: 'C:\\Users\\neha_marne\\Anaconda3\\envs\\django\\python.exe' -u -c 'import io, os, sys, setuptools, tokenize; sys.argv[0] = '\"'\"'C:\\\\Users\\\\neha_marne\\\\AppData\\\\Local\\\\Temp\\\\pip-install-zl4qsq1f\\\\pycrypto_cdba41b4b5b64f18981671a784bab5e9\\\\setup.py'\"'\"'; __file__='\"'\"'C:\\\\Users\\\\neha_marne\\\\AppData\\\\Local\\\\Temp\\\\pip-install-zl4qsq1f\\\\pycrypto_cdba41b4b5b64f18981671a784bab5e9\\\\setup.py'\"'\"';f = getattr(tokenize, '\"'\"'open'\"'\"', open)(__file__) if os.path.exists(__file__) else io.StringIO('\"'\"'from setuptools import setup; setup()'\"'\"');code = f.read().replace('\"'\"'\\r\\n'\"'\"', '\"'\"'\\n'\"'\"');f.close();exec(compile(code, __file__, '\"'\"'exec'\"'\"'))' install --record 'C:\\Users\\neha_marne\\AppData\\Local\\Temp\\pip-record-pp8n22gs\\install-record.txt' --single-version-externally-managed --compile --install-headers 'C:\\Users\\neha_marne\\Anaconda3\\envs\\django\\Include\\pycrypto' Check the logs for full command output.\n"
     ]
    }
   ],
   "source": [
    "pip install pycrypto\n"
   ]
  },
  {
   "cell_type": "markdown",
   "id": "68acb0c7",
   "metadata": {},
   "source": [
    "Ass 6 -aes"
   ]
  },
  {
   "cell_type": "code",
   "execution_count": 17,
   "id": "c32c659f",
   "metadata": {},
   "outputs": [
    {
     "name": "stdout",
     "output_type": "stream",
     "text": [
      "Enter the text to be encrypted: welcometopune\n",
      "Enter in a key between 16 and 32 characters: iamfinethanks\n",
      "Cipher Text:b'\\x8b]\\xc6N8\\x92o\"\"\\xc8\\x008I\\x0c\\xd5@'\n",
      "Clear Text:b'welcometopune   '\n"
     ]
    }
   ],
   "source": [
    "from Crypto.Cipher import AES\n",
    "def paddedKey(key):\n",
    " while len(key) % 8 !=0:\n",
    "    key +=' '\n",
    " return key\n",
    "\n",
    "def paddedText(text):\n",
    " while len(text) % 16 != 0:\n",
    "    text += ' '\n",
    " return text\n",
    "plain_input = input(\"Enter the text to be encrypted: \")\n",
    "plain = paddedText(plain_input)\n",
    "key_input = input(\"Enter in a key between 16 and 32 characters: \")\n",
    "key = paddedKey(key_input)\n",
    "if(len(key_input)< 16 & len(key_input)> 32):\n",
    "    print(\"key must be between 16 and 32 characters!\")\n",
    "cipher = AES.new(key.encode('utf8'),AES.MODE_ECB)\n",
    "ciphertext = cipher.encrypt(plain.encode('utf8'))\n",
    "print(\"Cipher Text:%r\"%ciphertext)\n",
    "cleartext = cipher.decrypt(ciphertext),\n",
    "print(\"Clear Text:%r\"%cleartext)  \n"
   ]
  },
  {
   "cell_type": "markdown",
   "id": "62a85b1f",
   "metadata": {},
   "source": [
    "Ass 7- Diffie hellman key exchange"
   ]
  },
  {
   "cell_type": "code",
   "execution_count": 18,
   "id": "95715d08",
   "metadata": {},
   "outputs": [
    {
     "name": "stdout",
     "output_type": "stream",
     "text": [
      "enter prime number(n)23\n",
      "enter base prime number(g)3\n",
      "enter Alice secret key(x)5\n",
      "enter Bob secret key(y)4\n",
      "publicly shared prime(n): 23\n",
      "publicly shared prime(g): 3\n",
      "Alice Secret key: 5\n",
      "Bob Secrete key: 4\n",
      "\n",
      " Alice sends (A) to Bob: 13\n",
      "\n",
      " Bob sends (B) to Alice: 12\n",
      "\n",
      " Alice shared secret: 18\n",
      "\n",
      " Bob shared secret: 18\n"
     ]
    }
   ],
   "source": [
    "#diffie Hellman key exchange algorithm\n",
    "n=int(input(\"enter prime number(n)\"))\n",
    "g=int(input(\"enter base prime number(g)\"))\n",
    "alicesecret=int(input(\"enter Alice secret key(x)\"))\n",
    "bobsecret=int(input(\"enter Bob secret key(y)\"))\n",
    "print(\"publicly shared prime(n):\",n)\n",
    "print(\"publicly shared prime(g):\",g)\n",
    "print(\"Alice Secret key:\",alicesecret)\n",
    "print(\"Bob Secrete key:\",bobsecret)\n",
    "#Alice sends number A to Bob A=g^x mod n\n",
    "A=(g**alicesecret)% n\n",
    "print(\"\\n Alice sends (A) to Bob:\",A)\n",
    "#Bob sends number B to Alice B=g^y mod n\n",
    "B=(g**bobsecret)% n\n",
    "print(\"\\n Bob sends (B) to Alice:\",B)\n",
    "#Alice computes shared secret key K1=B^x mod n\n",
    "alicesecretkey=(B**alicesecret)%n\n",
    "print(\"\\n Alice shared secret:\",alicesecretkey)\n",
    "#Bob computes shared secret key K2=A^y mod n\n",
    "bobsecretkey=(A**bobsecret)%n\n",
    "print(\"\\n Bob shared secret:\",bobsecretkey)"
   ]
  },
  {
   "cell_type": "code",
   "execution_count": null,
   "id": "77262f28",
   "metadata": {},
   "outputs": [],
   "source": [
    "Ass 8- RSA"
   ]
  },
  {
   "cell_type": "code",
   "execution_count": 19,
   "id": "cde61fdf",
   "metadata": {},
   "outputs": [
    {
     "name": "stdout",
     "output_type": "stream",
     "text": [
      "Enter prime p: 23\n",
      "Enter prime q: 47\n",
      "Choosen primes:\n",
      "p=23, q=47\n",
      "\n",
      "n = p * q = 1081\n",
      "\n",
      "Euler's function (totient) [phi(n)]: 1012\n",
      "\n",
      "Choose an e from a below coprimes array:\n",
      "\n",
      "[]\n",
      "\n",
      "3\n",
      "\n",
      "Your public key is a pair of numbers (e=3, n=1081).\n",
      "\n",
      "Your private key is a pair of numbers (d=675, n=1081).\n",
      "\n",
      "Enter a message to encrypt: I am from pune\n",
      "\n",
      "Plain message: I am from pune\n",
      "\n",
      "Encrypted message:  ΪŒĵаŒ˫Ⱦ¦аŒ˅ʌġl \n",
      "\n",
      "Decrypted message: 'I am from pune'\n"
     ]
    }
   ],
   "source": [
    "def gcd(a, b): # calculates GCD of a and d\n",
    " while b != 0:\n",
    "    c = a % b\n",
    "    a = b\n",
    "    b = c\n",
    "    return a\n",
    "def modinv(a, m): # calculates modulo inverse of a for mod m\n",
    "  for x in range(1, m):\n",
    "    if (a * x) % m == 1:\n",
    "      return x\n",
    "  return None\n",
    "def coprimes(a): # calculates all possible co-prime numbers with a\n",
    " l = []\n",
    " for x in range(2, a):\n",
    "  if gcd(a, x) == 1 and modinv(x, phi) != None:\n",
    "    l.append(x)\n",
    " for x in l:\n",
    "  if x == modinv(x, phi):\n",
    "    l.remove(x)\n",
    " return l\n",
    "def encrypt_block(m): # encrypts a single block\n",
    " c = m ** e % n\n",
    " return c\n",
    "def decrypt_block(c): # decrypts a single block\n",
    " m = c ** d % n\n",
    " return m\n",
    "def encrypt_string(s): # applies encryption\n",
    " return ''.join([chr(encrypt_block(ord(x))) for x in list(s)])\n",
    "def decrypt_string(s): # applies decryption\n",
    " return ''.join([chr(decrypt_block(ord(x))) for x in list(s)])\n",
    "if __name__ == \"__main__\":\n",
    " p = int(input('Enter prime p: '))\n",
    " q = int(input('Enter prime q: '))\n",
    " print(\"Choosen primes:\\np=\" + str(p) + \", q=\" + str(q) + \"\\n\")\n",
    " n = p * q\n",
    " print(\"n = p * q = \" + str(n) + \"\\n\")\n",
    " phi = (p - 1) * (q - 1)\n",
    " print(\"Euler's function (totient) [phi(n)]: \" + str(phi) + \"\\n\")\n",
    " print(\"Choose an e from a below coprimes array:\\n\")\n",
    " print(str(coprimes(phi)) + \"\\n\")\n",
    " e = int(input())\n",
    " d = modinv(e, phi) # calculates the decryption key d\n",
    " print(\"\\nYour public key is a pair of numbers (e=\" + str(e) + \", n=\" + str(n) + \").\\n\")\n",
    " print(\"Your private key is a pair of numbers (d=\" + str(d) + \", n=\" + str(n) + \").\\n\")\n",
    " s = input(\"Enter a message to encrypt: \")\n",
    " print(\"\\nPlain message: \" + s + \"\\n\")\n",
    " enc = encrypt_string(s)\n",
    " print(\"Encrypted message: \", enc, \"\\n\")\n",
    " dec = decrypt_string(enc)\n",
    " print(\"Decrypted message: %r\"  %dec  )"
   ]
  },
  {
   "cell_type": "markdown",
   "id": "ce06081a",
   "metadata": {},
   "source": [
    "# ML Assignments-"
   ]
  },
  {
   "cell_type": "markdown",
   "id": "10d4ad71",
   "metadata": {},
   "source": [
    "Ass 1-Linear regression"
   ]
  },
  {
   "cell_type": "code",
   "execution_count": 8,
   "id": "b520d617",
   "metadata": {},
   "outputs": [
    {
     "name": "stdout",
     "output_type": "stream",
     "text": [
      "Accuracy\n",
      "43.709481451010035\n",
      "[58.46361406]\n",
      "Enter the no of hours5\n",
      "Risk Score 35.524121013900256\n"
     ]
    },
    {
     "data": {
      "image/png": "[encoded data removed]",
      "text/plain": [
       "<Figure size 432x288 with 1 Axes>"
      ]
     },
     "metadata": {
      "needs_background": "light"
     },
     "output_type": "display_data"
    }
   ],
   "source": [
    "#import the packges\n",
    "import matplotlib.pyplot as plt\n",
    "import pandas as pd\n",
    "#Read Dataset\n",
    "dataset=pd.read_csv(\"hours.csv\")\n",
    "#index read \n",
    "x=dataset.iloc[:,:-1].values  #slice all column\n",
    "y=dataset.iloc[:,1].values  #last Column\n",
    "\n",
    "#import packages of LR\n",
    "from sklearn.linear_model import LinearRegression\n",
    "regressor=LinearRegression() #create object of LR\n",
    "\n",
    "# Fit Function\n",
    "regressor.fit(x,y)\n",
    "\n",
    "#score Function\n",
    "Accuracy=regressor.score(x,y)*100\n",
    "print('Accuracy')\n",
    "print(Accuracy)\n",
    "\n",
    "#Predict Function\n",
    "y_pred=regressor.predict([[10]])\n",
    "print(y_pred)\n",
    "\n",
    "#input from user\n",
    "hours=int(input(\"Enter the no of hours\"))\n",
    "\n",
    "# Coefficient \n",
    "# intercept\n",
    "eq=regressor.coef_*hours+regressor.intercept_\n",
    "print(\"Risk Score\",eq[0])\n",
    "\n",
    "plt.plot(x,y,'o')\n",
    "plt.plot(x,regressor.predict(x));\n",
    "plt.show()"
   ]
  },
  {
   "cell_type": "code",
   "execution_count": null,
   "id": "ebb9572d",
   "metadata": {},
   "outputs": [],
   "source": [
    "Ass 2- Decision tree"
   ]
  },
  {
   "cell_type": "code",
   "execution_count": 6,
   "id": "95fa6b92",
   "metadata": {},
   "outputs": [
    {
     "name": "stdout",
     "output_type": "stream",
     "text": [
      "    id  age  income  gender  marital_status\n",
      "0    0    1       0       1               1\n",
      "1    1    1       0       1               0\n",
      "2    2    0       0       1               1\n",
      "3    3    2       2       1               1\n",
      "4    4    2       1       0               1\n",
      "5    5    2       1       0               0\n",
      "6    6    0       1       0               0\n",
      "7    7    1       2       1               1\n",
      "8    8    1       1       0               0\n",
      "9    9    2       2       0               1\n",
      "10  10    1       2       0               0\n",
      "11  11    0       2       1               0\n",
      "12  12    0       0       0               1\n",
      "13  13    2       2       1               0\n",
      "Predicted class for input [Age < 21, Income =Low,Gender = Female, Marital Status = Married]\n",
      " [1 1 0 0]  is Yes\n"
     ]
    },
    {
     "name": "stderr",
     "output_type": "stream",
     "text": [
      "C:\\Users\\neha_marne\\Anaconda3\\envs\\django\\lib\\site-packages\\sklearn\\base.py:450: UserWarning: X does not have valid feature names, but DecisionTreeClassifier was fitted with feature names\n",
      "  warnings.warn(\n"
     ]
    },
    {
     "data": {
      "text/plain": [
       "True"
      ]
     },
     "execution_count": 6,
     "metadata": {},
     "output_type": "execute_result"
    }
   ],
   "source": [
    "#import packages\n",
    "import pandas as pd\n",
    "import numpy as np\n",
    "from graphviz import Digraph\n",
    "from IPython.display import Image\n",
    "# Read dataset\n",
    "dataset=pd.read_csv(\"tree1.csv\")\n",
    "\n",
    "x=dataset.iloc[:,:-1]\n",
    "y=dataset.iloc[:,5]\n",
    "\n",
    "#Label encoder\n",
    "from sklearn.preprocessing import LabelEncoder\n",
    "le=LabelEncoder()\n",
    "x=x.apply(le.fit_transform)\n",
    "print(x)\n",
    "\n",
    "# 1 1 0 0\n",
    "\n",
    "#import Decesion Tree Classifier\n",
    "\n",
    "from sklearn.tree import DecisionTreeClassifier\n",
    "# Create decision tree classifer object\n",
    "regressor=DecisionTreeClassifier()\n",
    "# Train model\n",
    "regressor.fit(x.iloc[:,1:5],y)\n",
    "\n",
    "x_in=np.array([1,1,0,0])\n",
    "y_pred=regressor.predict([x_in])\n",
    "\n",
    "print(\"Predicted class for input [Age < 21, Income =Low,Gender = Female, Marital Status = Married]\\n\", x_in,\" is\",y_pred[0])\n",
    "\n",
    "from six import StringIO\n",
    "#from IPython.display import Image\n",
    "from sklearn.tree import export_graphviz\n",
    "import pydotplus\n",
    "\n",
    "dot_data=StringIO()\n",
    "export_graphviz(regressor,out_file=dot_data,filled=True,rounded=True,special_characters=True)\n",
    "\n",
    "#Draw Graph\n",
    "graph=pydotplus.graph_from_dot_data(dot_data.getvalue())\n",
    "\n",
    "# Show graph & Create png File\n",
    "graph.write_png(\"tree.png\")\n",
    "#Image(graph.create_png())"
   ]
  },
  {
   "cell_type": "code",
   "execution_count": 26,
   "id": "97ed1594",
   "metadata": {
    "scrolled": true
   },
   "outputs": [
    {
     "name": "stdout",
     "output_type": "stream",
     "text": [
      "Collecting graphvizNote: you may need to restart the kernel to use updated packages.\n",
      "\n",
      "  Downloading graphviz-0.20-py3-none-any.whl (46 kB)\n",
      "Installing collected packages: graphviz\n",
      "Successfully installed graphviz-0.20\n"
     ]
    }
   ],
   "source": [
    "pip install graphviz"
   ]
  },
  {
   "cell_type": "markdown",
   "id": "db3e295f",
   "metadata": {},
   "source": [
    "Ass 3 -KNN"
   ]
  },
  {
   "cell_type": "code",
   "execution_count": 7,
   "id": "116fabce",
   "metadata": {},
   "outputs": [
    {
     "name": "stdout",
     "output_type": "stream",
     "text": [
      "class of the point (6,6) :  ['negative']\n",
      "Distance-Weighted k-NN : class of the point (6,2).  ['positive']\n"
     ]
    }
   ],
   "source": [
    "#import the packages\n",
    "import pandas as pd\n",
    "import numpy as np\n",
    "\n",
    "#Read dataset\n",
    "dataset=pd.read_csv(\"kdata.csv\")\n",
    "X=dataset.iloc[:,:-1].values\n",
    "y=dataset.iloc[:,2].values\n",
    "\n",
    "#import KNeighborshood Classifier and create object of it\n",
    "from sklearn.neighbors import KNeighborsClassifier\n",
    "\n",
    "#Creating model\n",
    "classifier=KNeighborsClassifier(n_neighbors=3)\n",
    "# Training model\n",
    "classifier.fit(X,y)\n",
    "\n",
    "#predict the class for the point(6,6)\n",
    "X_test=np.array([6,6])\n",
    "# Predictions for test data\n",
    "y_pred=classifier.predict([X_test])\n",
    "print(\"class of the point (6,6) : \",y_pred)\n",
    "\n",
    "# KNeighborsClassifier looks for the 5 nearest neighbors\n",
    "#If set to uniform, all points in each neighbourhood have \n",
    "#equal influence in predicting class i.e. predicted class is the class with highest number of points in the neighbourhood.\n",
    "classifier=KNeighborsClassifier(n_neighbors=3,weights='distance')\n",
    "classifier.fit(X,y)\n",
    "\n",
    "#predict the class for the point(6,2)\n",
    "X_test=np.array([6,2])\n",
    "y_pred=classifier.predict([X_test])\n",
    "print(\"Distance-Weighted k-NN : class of the point (6,2). \",y_pred)"
   ]
  },
  {
   "cell_type": "markdown",
   "id": "0518284c",
   "metadata": {},
   "source": [
    "Ass 4 -kmeans"
   ]
  },
  {
   "cell_type": "code",
   "execution_count": 3,
   "id": "d66d4f15",
   "metadata": {},
   "outputs": [
    {
     "name": "stdout",
     "output_type": "stream",
     "text": [
      "[[0.1  0.6 ]\n",
      " [0.15 0.71]\n",
      " [0.08 0.9 ]\n",
      " [0.16 0.85]\n",
      " [0.2  0.3 ]\n",
      " [0.25 0.5 ]\n",
      " [0.24 0.1 ]\n",
      " [0.3  0.2 ]]\n"
     ]
    },
    {
     "data": {
      "image/png": "[encoded data removed]",
      "text/plain": [
       "<Figure size 432x288 with 1 Axes>"
      ]
     },
     "metadata": {
      "needs_background": "light"
     },
     "output_type": "display_data"
    },
    {
     "data": {
      "image/png": "[encoded data removed]",
      "text/plain": [
       "<Figure size 432x288 with 1 Axes>"
      ]
     },
     "metadata": {
      "needs_background": "light"
     },
     "output_type": "display_data"
    },
    {
     "name": "stdout",
     "output_type": "stream",
     "text": [
      "[[0.1 0.3]\n",
      " [0.6 0.2]]\n"
     ]
    },
    {
     "data": {
      "image/png": "[encoded data removed]",
      "text/plain": [
       "<Figure size 432x288 with 1 Axes>"
      ]
     },
     "metadata": {
      "needs_background": "light"
     },
     "output_type": "display_data"
    },
    {
     "name": "stdout",
     "output_type": "stream",
     "text": [
      "[1 1 1 1 0 0 0 0]\n",
      "No of population around cluster 2: 3\n",
      "Previous value of m1 and m2 is:\n",
      "M1== [0.1 0.3]\n",
      "M1== [0.6 0.2]\n",
      "updated value of m1 and m2 is:\n",
      "M1== [0.2475 0.275 ]\n",
      "M1== [0.1225 0.765 ]\n"
     ]
    }
   ],
   "source": [
    "#import packages\n",
    "import numpy as np\n",
    "import matplotlib.pyplot as plt\n",
    "import pandas as pd\n",
    "\n",
    "#create dataset using DataFrame\n",
    "df=pd.DataFrame({'X':[0.1,0.15,0.08,0.16,0.2,0.25,0.24,0.3],\n",
    "                 'y':[0.6,0.71,0.9,0.85,0.3,0.5,0.1,0.2]})\n",
    "f1 = df['X'].values\n",
    "f2 = df['y'].values\n",
    "X = np.array(list(zip(f1, f2)))\n",
    "print(X)\n",
    "\n",
    "#centroid points\n",
    "C_x=np.array([0.1,0.3])\n",
    "C_y=np.array([0.6,0.2])\n",
    "centroids=C_x,C_y\n",
    "\n",
    "#plot the given points\n",
    "colmap = {1: 'r', 2: 'b'}\n",
    "plt.scatter(f1, f2, color='k')\n",
    "plt.show()\n",
    "\n",
    "#for i in centroids():\n",
    "plt.scatter(C_x[0],C_y[0], color=colmap[1])\n",
    "plt.scatter(C_x[1],C_y[1], color=colmap[2])\n",
    "plt.show()\n",
    "\n",
    "C = np.array(list((C_x, C_y)), dtype=np.float32)\n",
    "print (C)\n",
    "\n",
    "#plot given elements with centroid elements\n",
    "plt.scatter(f1, f2, c='#050505')\n",
    "plt.scatter(C_x[0], C_y[0], marker='*', s=200, c='r')\n",
    "plt.scatter(C_x[1], C_y[1], marker='*', s=200, c='b')\n",
    "plt.show()\n",
    "\n",
    "\n",
    "#import KMeans class and create object of it\n",
    "from sklearn.cluster import KMeans\n",
    "model=KMeans(n_clusters=2,random_state=0)\n",
    "model.fit(X)\n",
    "labels=model.labels_\n",
    "print(labels)\n",
    "\n",
    "#using labels find population around centroid\n",
    "count=0\n",
    "for i in range(len(labels)):\n",
    "    if (labels[i]==1):\n",
    "        count=count+1\n",
    "\n",
    "print('No of population around cluster 2:',count-1)\n",
    "\t\n",
    "#Find new centroids\n",
    "new_centroids = model.cluster_centers_\n",
    "\n",
    "print('Previous value of m1 and m2 is:')\n",
    "print('M1==',centroids[0])\n",
    "print('M1==',centroids[1])\n",
    "\n",
    "print('updated value of m1 and m2 is:')\n",
    "print('M1==',new_centroids[0])\n",
    "print('M1==',new_centroids[1])\n",
    "\n",
    "#Output\n",
    "#[[0.1  0.6 ]\n",
    "# [0.15 0.71]\n",
    "# [0.08 0.9 ]\n",
    "# [0.16 0.85]\n",
    "# [0.2  0.3 ]\n",
    "# [0.25 0.5 ]\n",
    "# [0.24 0.1 ]\n",
    "# [0.3  0.2 ]]\n",
    "  \n",
    "\n",
    "#[[0.1 0.3]\n",
    "# [0.6 0.2]]\n",
    " \n",
    "\n",
    "#[1 1 1 1 0 0 0 0]\n",
    "#No of population around cluster 2: 3\n",
    "#Previous value of m1 and m2 is:\n",
    "#M1== [0.1 0.3]\n",
    "#M1== [0.6 0.2]\n",
    "#updated value of m1 and m2 is:\n",
    "#M1== [0.2475 0.275 ]\n",
    "#M1== [0.1225 0.765 ]\n"
   ]
  },
  {
   "cell_type": "code",
   "execution_count": null,
   "id": "c003de50",
   "metadata": {},
   "outputs": [],
   "source": []
  }
 ],
 "metadata": {
  "kernelspec": {
   "display_name": "Python 3 (ipykernel)",
   "language": "python",
   "name": "python3"
  },
  "language_info": {
   "codemirror_mode": {
    "name": "ipython",
    "version": 3
   },
   "file_extension": ".py",
   "mimetype": "text/x-python",
   "name": "python",
   "nbconvert_exporter": "python",
   "pygments_lexer": "ipython3",
   "version": "3.8.12"
  }
 },
 "nbformat": 4,
 "nbformat_minor": 5
}
